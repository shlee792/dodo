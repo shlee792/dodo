{
 "cells": [
  {
   "cell_type": "code",
   "execution_count": 21,
   "metadata": {},
   "outputs": [],
   "source": [
    "import tensorflow as tf\n",
    "import pandas as pd\n",
    "import numpy as np\n",
    "import matplotlib.pyplot as plt"
   ]
  },
  {
   "cell_type": "code",
   "execution_count": 22,
   "metadata": {},
   "outputs": [],
   "source": [
    "# Training Data\n",
    "data = pd.read_csv('regression.csv', delimiter = ',')\n",
    "X = data['X'].tolist()\n",
    "Y = data['Y'].tolist()\n",
    "x_train = np.asarray(X)\n",
    "y_train = np.asarray(Y)"
   ]
  },
  {
   "cell_type": "code",
   "execution_count": 41,
   "metadata": {},
   "outputs": [],
   "source": [
    "model = tf.keras.models.Sequential([\n",
    "    tf.keras.layers.Dense(1, input_shape=[1])    \n",
    "])\n",
    "optimizer = tf.keras.optimizers.RMSprop(0.01)\n",
    "model.compile(optimizer=optimizer,\n",
    "              loss='mse',\n",
    "              metrics=['mse']) "
   ]
  },
  {
   "cell_type": "code",
   "execution_count": 42,
   "metadata": {},
   "outputs": [
    {
     "name": "stdout",
     "output_type": "stream",
     "text": [
      "Epoch 1/100\n",
      "17/17 [==============================] - 0s 6ms/sample - loss: 62.4640 - mean_squared_error: 62.4640\n",
      "Epoch 2/100\n",
      "17/17 [==============================] - 0s 69us/sample - loss: 58.7409 - mean_squared_error: 58.7409\n",
      "Epoch 3/100\n",
      "17/17 [==============================] - 0s 110us/sample - loss: 56.1506 - mean_squared_error: 56.1506\n",
      "Epoch 4/100\n",
      "17/17 [==============================] - 0s 111us/sample - loss: 54.0464 - mean_squared_error: 54.0464\n",
      "Epoch 5/100\n",
      "17/17 [==============================] - 0s 184us/sample - loss: 52.2253 - mean_squared_error: 52.2253\n",
      "Epoch 6/100\n",
      "17/17 [==============================] - 0s 125us/sample - loss: 50.5937 - mean_squared_error: 50.5937\n",
      "Epoch 7/100\n",
      "17/17 [==============================] - 0s 141us/sample - loss: 49.0997 - mean_squared_error: 49.0997\n",
      "Epoch 8/100\n",
      "17/17 [==============================] - 0s 149us/sample - loss: 47.7112 - mean_squared_error: 47.7112\n",
      "Epoch 9/100\n",
      "17/17 [==============================] - 0s 222us/sample - loss: 46.4067 - mean_squared_error: 46.4067\n",
      "Epoch 10/100\n",
      "17/17 [==============================] - 0s 140us/sample - loss: 45.1711 - mean_squared_error: 45.1711\n",
      "Epoch 11/100\n",
      "17/17 [==============================] - 0s 124us/sample - loss: 43.9932 - mean_squared_error: 43.9932\n",
      "Epoch 12/100\n",
      "17/17 [==============================] - 0s 139us/sample - loss: 42.8647 - mean_squared_error: 42.8647\n",
      "Epoch 13/100\n",
      "17/17 [==============================] - 0s 104us/sample - loss: 41.7791 - mean_squared_error: 41.7791\n",
      "Epoch 14/100\n",
      "17/17 [==============================] - 0s 185us/sample - loss: 40.7313 - mean_squared_error: 40.7313\n",
      "Epoch 15/100\n",
      "17/17 [==============================] - 0s 117us/sample - loss: 39.7171 - mean_squared_error: 39.7171\n",
      "Epoch 16/100\n",
      "17/17 [==============================] - 0s 114us/sample - loss: 38.7331 - mean_squared_error: 38.7331\n",
      "Epoch 17/100\n",
      "17/17 [==============================] - 0s 147us/sample - loss: 37.7766 - mean_squared_error: 37.7766\n",
      "Epoch 18/100\n",
      "17/17 [==============================] - 0s 120us/sample - loss: 36.8452 - mean_squared_error: 36.8452\n",
      "Epoch 19/100\n",
      "17/17 [==============================] - 0s 109us/sample - loss: 35.9369 - mean_squared_error: 35.9369\n",
      "Epoch 20/100\n",
      "17/17 [==============================] - 0s 102us/sample - loss: 35.0502 - mean_squared_error: 35.0502\n",
      "Epoch 21/100\n",
      "17/17 [==============================] - 0s 104us/sample - loss: 34.1836 - mean_squared_error: 34.1836\n",
      "Epoch 22/100\n",
      "17/17 [==============================] - 0s 104us/sample - loss: 33.3359 - mean_squared_error: 33.3359\n",
      "Epoch 23/100\n",
      "17/17 [==============================] - 0s 88us/sample - loss: 32.5059 - mean_squared_error: 32.5059\n",
      "Epoch 24/100\n",
      "17/17 [==============================] - 0s 89us/sample - loss: 31.6929 - mean_squared_error: 31.6929\n",
      "Epoch 25/100\n",
      "17/17 [==============================] - 0s 159us/sample - loss: 30.8960 - mean_squared_error: 30.8960\n",
      "Epoch 26/100\n",
      "17/17 [==============================] - 0s 131us/sample - loss: 30.1146 - mean_squared_error: 30.1146\n",
      "Epoch 27/100\n",
      "17/17 [==============================] - 0s 129us/sample - loss: 29.3479 - mean_squared_error: 29.3479\n",
      "Epoch 28/100\n",
      "17/17 [==============================] - 0s 117us/sample - loss: 28.5955 - mean_squared_error: 28.5955\n",
      "Epoch 29/100\n",
      "17/17 [==============================] - 0s 118us/sample - loss: 27.8569 - mean_squared_error: 27.8569\n",
      "Epoch 30/100\n",
      "17/17 [==============================] - 0s 135us/sample - loss: 27.1317 - mean_squared_error: 27.1317\n",
      "Epoch 31/100\n",
      "17/17 [==============================] - 0s 169us/sample - loss: 26.4195 - mean_squared_error: 26.4195\n",
      "Epoch 32/100\n",
      "17/17 [==============================] - 0s 124us/sample - loss: 25.7199 - mean_squared_error: 25.7199\n",
      "Epoch 33/100\n",
      "17/17 [==============================] - 0s 179us/sample - loss: 25.0328 - mean_squared_error: 25.0328\n",
      "Epoch 34/100\n",
      "17/17 [==============================] - 0s 112us/sample - loss: 24.3577 - mean_squared_error: 24.3577\n",
      "Epoch 35/100\n",
      "17/17 [==============================] - 0s 108us/sample - loss: 23.6944 - mean_squared_error: 23.6944\n",
      "Epoch 36/100\n",
      "17/17 [==============================] - 0s 127us/sample - loss: 23.0428 - mean_squared_error: 23.0428\n",
      "Epoch 37/100\n",
      "17/17 [==============================] - 0s 123us/sample - loss: 22.4027 - mean_squared_error: 22.4027\n",
      "Epoch 38/100\n",
      "17/17 [==============================] - 0s 97us/sample - loss: 21.7738 - mean_squared_error: 21.7738\n",
      "Epoch 39/100\n",
      "17/17 [==============================] - 0s 157us/sample - loss: 21.1561 - mean_squared_error: 21.1561\n",
      "Epoch 40/100\n",
      "17/17 [==============================] - 0s 90us/sample - loss: 20.5493 - mean_squared_error: 20.5493\n",
      "Epoch 41/100\n",
      "17/17 [==============================] - 0s 74us/sample - loss: 19.9533 - mean_squared_error: 19.9533\n",
      "Epoch 42/100\n",
      "17/17 [==============================] - 0s 136us/sample - loss: 19.3680 - mean_squared_error: 19.3680\n",
      "Epoch 43/100\n",
      "17/17 [==============================] - 0s 67us/sample - loss: 18.7934 - mean_squared_error: 18.7934\n",
      "Epoch 44/100\n",
      "17/17 [==============================] - 0s 64us/sample - loss: 18.2292 - mean_squared_error: 18.2292\n",
      "Epoch 45/100\n",
      "17/17 [==============================] - 0s 189us/sample - loss: 17.6755 - mean_squared_error: 17.6755\n",
      "Epoch 46/100\n",
      "17/17 [==============================] - 0s 113us/sample - loss: 17.1320 - mean_squared_error: 17.1320\n",
      "Epoch 47/100\n",
      "17/17 [==============================] - 0s 158us/sample - loss: 16.5988 - mean_squared_error: 16.5988\n",
      "Epoch 48/100\n",
      "17/17 [==============================] - 0s 120us/sample - loss: 16.0757 - mean_squared_error: 16.0757\n",
      "Epoch 49/100\n",
      "17/17 [==============================] - 0s 119us/sample - loss: 15.5627 - mean_squared_error: 15.5627\n",
      "Epoch 50/100\n",
      "17/17 [==============================] - 0s 159us/sample - loss: 15.0597 - mean_squared_error: 15.0597\n",
      "Epoch 51/100\n",
      "17/17 [==============================] - 0s 83us/sample - loss: 14.5666 - mean_squared_error: 14.5666\n",
      "Epoch 52/100\n",
      "17/17 [==============================] - 0s 92us/sample - loss: 14.0834 - mean_squared_error: 14.0834\n",
      "Epoch 53/100\n",
      "17/17 [==============================] - 0s 147us/sample - loss: 13.6100 - mean_squared_error: 13.6100\n",
      "Epoch 54/100\n",
      "17/17 [==============================] - 0s 140us/sample - loss: 13.1464 - mean_squared_error: 13.1464\n",
      "Epoch 55/100\n",
      "17/17 [==============================] - 0s 114us/sample - loss: 12.6925 - mean_squared_error: 12.6925\n",
      "Epoch 56/100\n",
      "17/17 [==============================] - 0s 155us/sample - loss: 12.2482 - mean_squared_error: 12.2482\n",
      "Epoch 57/100\n",
      "17/17 [==============================] - 0s 96us/sample - loss: 11.8136 - mean_squared_error: 11.8136\n",
      "Epoch 58/100\n",
      "17/17 [==============================] - 0s 137us/sample - loss: 11.3884 - mean_squared_error: 11.3884\n",
      "Epoch 59/100\n",
      "17/17 [==============================] - 0s 94us/sample - loss: 10.9728 - mean_squared_error: 10.9728\n",
      "Epoch 60/100\n",
      "17/17 [==============================] - 0s 191us/sample - loss: 10.5666 - mean_squared_error: 10.5666\n",
      "Epoch 61/100\n",
      "17/17 [==============================] - 0s 104us/sample - loss: 10.1698 - mean_squared_error: 10.1698\n",
      "Epoch 62/100\n",
      "17/17 [==============================] - 0s 141us/sample - loss: 9.7823 - mean_squared_error: 9.7823\n",
      "Epoch 63/100\n",
      "17/17 [==============================] - 0s 91us/sample - loss: 9.4041 - mean_squared_error: 9.4041\n",
      "Epoch 64/100\n",
      "17/17 [==============================] - 0s 121us/sample - loss: 9.0351 - mean_squared_error: 9.0351\n",
      "Epoch 65/100\n",
      "17/17 [==============================] - 0s 103us/sample - loss: 8.6753 - mean_squared_error: 8.6753\n",
      "Epoch 66/100\n",
      "17/17 [==============================] - 0s 106us/sample - loss: 8.3246 - mean_squared_error: 8.3246\n",
      "Epoch 67/100\n",
      "17/17 [==============================] - 0s 165us/sample - loss: 7.9830 - mean_squared_error: 7.9830\n",
      "Epoch 68/100\n",
      "17/17 [==============================] - 0s 150us/sample - loss: 7.6504 - mean_squared_error: 7.6504\n",
      "Epoch 69/100\n",
      "17/17 [==============================] - 0s 101us/sample - loss: 7.3268 - mean_squared_error: 7.3268\n",
      "Epoch 70/100\n",
      "17/17 [==============================] - 0s 115us/sample - loss: 7.0121 - mean_squared_error: 7.0121\n",
      "Epoch 71/100\n",
      "17/17 [==============================] - 0s 98us/sample - loss: 6.7063 - mean_squared_error: 6.7063\n",
      "Epoch 72/100\n",
      "17/17 [==============================] - 0s 100us/sample - loss: 6.4092 - mean_squared_error: 6.4092\n"
     ]
    },
    {
     "name": "stdout",
     "output_type": "stream",
     "text": [
      "Epoch 73/100\n",
      "17/17 [==============================] - 0s 200us/sample - loss: 6.1208 - mean_squared_error: 6.1208\n",
      "Epoch 74/100\n",
      "17/17 [==============================] - 0s 81us/sample - loss: 5.8412 - mean_squared_error: 5.8412\n",
      "Epoch 75/100\n",
      "17/17 [==============================] - 0s 145us/sample - loss: 5.5701 - mean_squared_error: 5.5701\n",
      "Epoch 76/100\n",
      "17/17 [==============================] - 0s 105us/sample - loss: 5.3075 - mean_squared_error: 5.3075\n",
      "Epoch 77/100\n",
      "17/17 [==============================] - 0s 145us/sample - loss: 5.0534 - mean_squared_error: 5.0534\n",
      "Epoch 78/100\n",
      "17/17 [==============================] - 0s 165us/sample - loss: 4.8078 - mean_squared_error: 4.8078\n",
      "Epoch 79/100\n",
      "17/17 [==============================] - 0s 92us/sample - loss: 4.5704 - mean_squared_error: 4.5704\n",
      "Epoch 80/100\n",
      "17/17 [==============================] - 0s 94us/sample - loss: 4.3413 - mean_squared_error: 4.3413\n",
      "Epoch 81/100\n",
      "17/17 [==============================] - 0s 118us/sample - loss: 4.1203 - mean_squared_error: 4.1203\n",
      "Epoch 82/100\n",
      "17/17 [==============================] - 0s 131us/sample - loss: 3.9075 - mean_squared_error: 3.9075\n",
      "Epoch 83/100\n",
      "17/17 [==============================] - 0s 100us/sample - loss: 3.7026 - mean_squared_error: 3.7026\n",
      "Epoch 84/100\n",
      "17/17 [==============================] - 0s 230us/sample - loss: 3.5057 - mean_squared_error: 3.5057\n",
      "Epoch 85/100\n",
      "17/17 [==============================] - 0s 143us/sample - loss: 3.3166 - mean_squared_error: 3.3166\n",
      "Epoch 86/100\n",
      "17/17 [==============================] - 0s 196us/sample - loss: 3.1352 - mean_squared_error: 3.1352\n",
      "Epoch 87/100\n",
      "17/17 [==============================] - 0s 203us/sample - loss: 2.9615 - mean_squared_error: 2.9615\n",
      "Epoch 88/100\n",
      "17/17 [==============================] - 0s 234us/sample - loss: 2.7953 - mean_squared_error: 2.7953\n",
      "Epoch 89/100\n",
      "17/17 [==============================] - 0s 89us/sample - loss: 2.6365 - mean_squared_error: 2.6365\n",
      "Epoch 90/100\n",
      "17/17 [==============================] - 0s 131us/sample - loss: 2.4851 - mean_squared_error: 2.4851\n",
      "Epoch 91/100\n",
      "17/17 [==============================] - 0s 158us/sample - loss: 2.3408 - mean_squared_error: 2.3408\n",
      "Epoch 92/100\n",
      "17/17 [==============================] - 0s 140us/sample - loss: 2.2036 - mean_squared_error: 2.2036\n",
      "Epoch 93/100\n",
      "17/17 [==============================] - 0s 129us/sample - loss: 2.0735 - mean_squared_error: 2.0735\n",
      "Epoch 94/100\n",
      "17/17 [==============================] - 0s 77us/sample - loss: 1.9501 - mean_squared_error: 1.9501\n",
      "Epoch 95/100\n",
      "17/17 [==============================] - 0s 253us/sample - loss: 1.8334 - mean_squared_error: 1.8334\n",
      "Epoch 96/100\n",
      "17/17 [==============================] - 0s 126us/sample - loss: 1.7233 - mean_squared_error: 1.7233\n",
      "Epoch 97/100\n",
      "17/17 [==============================] - 0s 146us/sample - loss: 1.6197 - mean_squared_error: 1.6197\n",
      "Epoch 98/100\n",
      "17/17 [==============================] - 0s 126us/sample - loss: 1.5223 - mean_squared_error: 1.5223\n",
      "Epoch 99/100\n",
      "17/17 [==============================] - 0s 178us/sample - loss: 1.4310 - mean_squared_error: 1.4310\n",
      "Epoch 100/100\n",
      "17/17 [==============================] - 0s 79us/sample - loss: 1.3456 - mean_squared_error: 1.3456\n"
     ]
    },
    {
     "data": {
      "text/plain": [
       "<tensorflow.python.keras.callbacks.History at 0xb32799b00>"
      ]
     },
     "execution_count": 42,
     "metadata": {},
     "output_type": "execute_result"
    }
   ],
   "source": [
    "model.fit(x_train, y_train, epochs=100)"
   ]
  },
  {
   "cell_type": "code",
   "execution_count": 43,
   "metadata": {},
   "outputs": [],
   "source": [
    "x = np.arange(2,11,1)\n",
    "y = model.predict(x)"
   ]
  },
  {
   "cell_type": "code",
   "execution_count": 44,
   "metadata": {},
   "outputs": [
    {
     "data": {
      "text/plain": [
       "[<matplotlib.lines.Line2D at 0xb32ae7630>]"
      ]
     },
     "execution_count": 44,
     "metadata": {},
     "output_type": "execute_result"
    },
    {
     "data": {
      "image/png": "[encoded data removed]",
      "text/plain": [
       "<Figure size 432x288 with 1 Axes>"
      ]
     },
     "metadata": {
      "needs_background": "light"
     },
     "output_type": "display_data"
    }
   ],
   "source": [
    "plt.plot(x,y, 'ro')"
   ]
  },
  {
   "cell_type": "code",
   "execution_count": null,
   "metadata": {},
   "outputs": [],
   "source": []
  }
 ],
 "metadata": {
  "kernelspec": {
   "display_name": "Python 3",
   "language": "python",
   "name": "python3"
  },
  "language_info": {
   "codemirror_mode": {
    "name": "ipython",
    "version": 3
   },
   "file_extension": ".py",
   "mimetype": "text/x-python",
   "name": "python",
   "nbconvert_exporter": "python",
   "pygments_lexer": "ipython3",
   "version": "3.7.1"
  }
 },
 "nbformat": 4,
 "nbformat_minor": 1
}
