{
 "cells": [
  {
   "cell_type": "code",
   "execution_count": 28,
   "metadata": {
    "collapsed": true
   },
   "outputs": [
    {
     "name": "stdout",
     "output_type": "stream",
     "text": [
      "['I', 'am', 'Jhon', 'from', 'America', 'and', 'would', 'like', 'to', 'go', 'to', 'Starbuck']\n",
      "[('I', 'PRP'), ('am', 'VBP'), ('Jhon', 'RB'), ('from', 'IN'), ('America', 'NNP'), ('and', 'CC'), ('would', 'MD'), ('like', 'VB'), ('to', 'TO'), ('go', 'VB'), ('to', 'TO'), ('Starbuck', 'NNP')]\n",
      "(S\n",
      "  I/PRP\n",
      "  am/VBP\n",
      "  Jhon/RB\n",
      "  from/IN\n",
      "  (NE America/NNP)\n",
      "  and/CC\n",
      "  would/MD\n",
      "  like/VB\n",
      "  to/TO\n",
      "  go/VB\n",
      "  to/TO\n",
      "  (NE Starbuck/NNP))\n",
      "(S\n",
      "  I/PRP\n",
      "  am/VBP\n",
      "  Jhon/RB\n",
      "  from/IN\n",
      "  (GPE America/NNP)\n",
      "  and/CC\n",
      "  would/MD\n",
      "  like/VB\n",
      "  to/TO\n",
      "  go/VB\n",
      "  to/TO\n",
      "  (PERSON Starbuck/NNP))\n"
     ]
    }
   ],
   "source": [
    "import nltk\n",
    "sent = \"I am Jhon from America and would like to go to Starbuck\"\n",
    "token = nltk.word_tokenize(sent)\n",
    "print(token)\n",
    "pos = nltk.pos_tag(token)\n",
    "print(pos)\n",
    "NE = nltk.ne_chunk(pos, binary='TRUE')\n",
    "print(NE)\n",
    "NE = nltk.ne_chunk(pos)\n",
    "print(NE)\n",
    "# common Entity types: ORGANIZATION, PERSON, LOCATION, DATE, TIME, MONEY, and GPE (geo-political entity)"
   ]
  },
  {
   "cell_type": "code",
   "execution_count": null,
   "metadata": {},
   "outputs": [],
   "source": [
    "\n"
   ]
  }
 ],
 "metadata": {
  "kernelspec": {
   "display_name": "Python 3",
   "language": "python",
   "name": "python3"
  },
  "language_info": {
   "codemirror_mode": {
    "name": "ipython",
    "version": 3
   },
   "file_extension": ".py",
   "mimetype": "text/x-python",
   "name": "python",
   "nbconvert_exporter": "python",
   "pygments_lexer": "ipython3",
   "version": "3.7.1"
  }
 },
 "nbformat": 4,
 "nbformat_minor": 1
}
